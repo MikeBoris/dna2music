{
 "cells": [
  {
   "cell_type": "code",
   "execution_count": 25,
   "metadata": {
    "collapsed": true
   },
   "outputs": [],
   "source": [
    "from collections import Counter\n",
    "import copy"
   ]
  },
  {
   "cell_type": "code",
   "execution_count": 26,
   "metadata": {
    "collapsed": true
   },
   "outputs": [],
   "source": [
    "word_list = ['CATAAG', 'GACAT', 'ACATAAG', 'TAAGC', 'AGTTTGAC', 'GCGCAT', \n",
    "'AGCGCAT', 'TTGAC', 'GTTTGAC', 'AAGCGCAT', 'TGAC', 'CATG', 'GCAT', 'CGCAT', 'TTTGAC', 'ATAAGC']"
   ]
  },
  {
   "cell_type": "code",
   "execution_count": 27,
   "metadata": {
    "collapsed": true
   },
   "outputs": [],
   "source": [
    "def is_section(d):\n",
    "\t# check if d has at least 4 keys\n",
    "\tif len(d.keys()) < 4:\n",
    "\t\treturn False\n",
    "\telse:\n",
    "\t\tif sum(d.values()) < 8:\n",
    "\t\t\treturn False\n",
    "\t\telse:\n",
    "\t\t\treturn True"
   ]
  },
  {
   "cell_type": "code",
   "execution_count": 28,
   "metadata": {
    "collapsed": false
   },
   "outputs": [
    {
     "name": "stdout",
     "output_type": "stream",
     "text": [
      "True\n",
      "False\n"
     ]
    }
   ],
   "source": [
    "dj = {'ATGC': 3, 'CTGA': 2, 'GTCA': 10, 'GATC': 1}\n",
    "print(is_section(dj))\n",
    "\n",
    "dk = {'ATGC': 3, 'CTGA': 2, 'GTCA': 10}\n",
    "print(is_section(dk))"
   ]
  },
  {
   "cell_type": "code",
   "execution_count": 32,
   "metadata": {
    "collapsed": false
   },
   "outputs": [
    {
     "name": "stdout",
     "output_type": "stream",
     "text": [
      "{'s2': {'TGAC': 1, 'ACTG': 4, 'ACGT': 1, 'TACG': 1, 'CATG': 1}, 's1': {'CGAT': 1, 'TACG': 1, 'ACTG': 4, 'ACGT': 1, 'TAGC': 1}}\n"
     ]
    }
   ],
   "source": [
    "# initialize new dict for all sections (so a dict of dicts)\n",
    "sections = {}\n",
    "\n",
    "# initialize empty presection\n",
    "presection = {}\n",
    "\n",
    "for word in word_list:\n",
    "\t# add word to presection\n",
    "\t# \n",
    "\tpw = Counter(word)\n",
    "\tn = len(pw)\n",
    "\t# convert word Counter object to 4-char key\n",
    "\tw = ''.join([pw.most_common(n)[i][0] for i in range(n)])\n",
    "\t# add 4-char key to presection\n",
    "\tpresection[w] = presection.get(w, 0) + 1\n",
    "\t# check if presection is a section\n",
    "\tfn = is_section(presection)\n",
    "\tif fn:\n",
    "\t\t# presection is now a section, add it to sections dict\n",
    "\t\t# create new name for presection, insert into sections dict as sections['name'] = presection\n",
    "\t\tnum = len(sections.keys()) + 1\n",
    "\t\tname = 's' + str(num)\n",
    "\t\tpresection1 = copy.deepcopy(presection)\n",
    "\t\tsections[name] = presection1\n",
    "\t\t# clear contents of presection\n",
    "\t\tpresection.clear()\n",
    "\n",
    "print(sections)"
   ]
  },
  {
   "cell_type": "code",
   "execution_count": 7,
   "metadata": {
    "collapsed": false
   },
   "outputs": [
    {
     "name": "stdout",
     "output_type": "stream",
     "text": [
      "['CATAAG', 'GACAT', 'ACATAAG', 'TAAGC', 'AGTTTGAC', 'GCGCAT', 'AGCGCAT', 'TTGAC', 'GTTTGAC', 'AAGCGCAT', 'TGAC', 'CATG', 'GCAT', 'CGCAT', 'TTTGAC', 'ATAAGC']\n"
     ]
    }
   ],
   "source": [
    "print(word_list)"
   ]
  },
  {
   "cell_type": "code",
   "execution_count": 13,
   "metadata": {
    "collapsed": false
   },
   "outputs": [
    {
     "name": "stdout",
     "output_type": "stream",
     "text": [
      "{'ACTG': 1}\n",
      "False\n",
      "{'ACTG': 2}\n",
      "False\n",
      "{'ACTG': 3}\n",
      "False\n",
      "{'ACTG': 4}\n",
      "False\n",
      "{'TAGC': 1, 'ACTG': 4}\n",
      "False\n",
      "{'CGAT': 1, 'TAGC': 1, 'ACTG': 4}\n",
      "False\n",
      "{'CGAT': 1, 'TAGC': 1, 'ACGT': 1, 'ACTG': 4}\n",
      "False\n",
      "{'CGAT': 1, 'TAGC': 1, 'ACGT': 1, 'TACG': 1, 'ACTG': 4}\n",
      "True\n",
      "{'ACGT': 1, 'TAGC': 1, 'CGAT': 1, 'TGAC': 1, 'ACTG': 4, 'TACG': 1}\n",
      "True\n",
      "{'ACGT': 2, 'TAGC': 1, 'CGAT': 1, 'TGAC': 1, 'ACTG': 4, 'TACG': 1}\n",
      "True\n",
      "{'ACGT': 2, 'TAGC': 1, 'CGAT': 1, 'TGAC': 1, 'ACTG': 5, 'TACG': 1}\n",
      "True\n",
      "{'ACGT': 2, 'TAGC': 1, 'CGAT': 1, 'TGAC': 1, 'ACTG': 6, 'TACG': 1}\n",
      "True\n",
      "{'ACGT': 2, 'TAGC': 1, 'CGAT': 1, 'TGAC': 1, 'ACTG': 7, 'TACG': 1}\n",
      "True\n",
      "{'ACGT': 2, 'CATG': 1, 'TAGC': 1, 'CGAT': 1, 'TGAC': 1, 'ACTG': 7, 'TACG': 1}\n",
      "True\n",
      "{'ACGT': 2, 'CATG': 1, 'TAGC': 1, 'CGAT': 1, 'TGAC': 1, 'ACTG': 7, 'TACG': 2}\n",
      "True\n",
      "{'ACGT': 2, 'CATG': 1, 'TAGC': 1, 'CGAT': 1, 'TGAC': 1, 'ACTG': 8, 'TACG': 2}\n",
      "True\n"
     ]
    }
   ],
   "source": [
    "p = {}\n",
    "for word in word_list:\n",
    "    pw = Counter(word)\n",
    "    w = ''.join([pw.most_common(4)[i][0] for i in range(4)])\n",
    "    p[w] = p.get(w, 0) + 1\n",
    "    print(p)\n",
    "    print(is_section(p))"
   ]
  },
  {
   "cell_type": "code",
   "execution_count": 10,
   "metadata": {
    "collapsed": false
   },
   "outputs": [
    {
     "name": "stdout",
     "output_type": "stream",
     "text": [
      "{'ACGT': 2, 'CATG': 1, 'TAGC': 1, 'CGAT': 1, 'TGAC': 1, 'ACTG': 8, 'TACG': 2}\n"
     ]
    }
   ],
   "source": [
    "print(p)"
   ]
  },
  {
   "cell_type": "code",
   "execution_count": 20,
   "metadata": {
    "collapsed": false
   },
   "outputs": [
    {
     "name": "stdout",
     "output_type": "stream",
     "text": [
      "True\n"
     ]
    }
   ],
   "source": [
    "print(is_section(p))"
   ]
  },
  {
   "cell_type": "code",
   "execution_count": 21,
   "metadata": {
    "collapsed": true
   },
   "outputs": [],
   "source": [
    "s = {'CGAT': 1, 'TAGC': 1, 'ACGT': 1, 'TACG': 1, 'ACTG': 4}"
   ]
  },
  {
   "cell_type": "code",
   "execution_count": 22,
   "metadata": {
    "collapsed": true
   },
   "outputs": [],
   "source": [
    "section = {}\n",
    "name = 's1'"
   ]
  },
  {
   "cell_type": "code",
   "execution_count": 23,
   "metadata": {
    "collapsed": true
   },
   "outputs": [],
   "source": [
    "section[name] = s"
   ]
  },
  {
   "cell_type": "code",
   "execution_count": 24,
   "metadata": {
    "collapsed": false
   },
   "outputs": [
    {
     "name": "stdout",
     "output_type": "stream",
     "text": [
      "{'s1': {'CGAT': 1, 'TACG': 1, 'ACTG': 4, 'ACGT': 1, 'TAGC': 1}}\n"
     ]
    }
   ],
   "source": [
    "print(section)"
   ]
  }
 ],
 "metadata": {
  "anaconda-cloud": {},
  "kernelspec": {
   "display_name": "Python [conda root]",
   "language": "python",
   "name": "conda-root-py"
  },
  "language_info": {
   "codemirror_mode": {
    "name": "ipython",
    "version": 2
   },
   "file_extension": ".py",
   "mimetype": "text/x-python",
   "name": "python",
   "nbconvert_exporter": "python",
   "pygments_lexer": "ipython2",
   "version": "2.7.12"
  }
 },
 "nbformat": 4,
 "nbformat_minor": 1
}
